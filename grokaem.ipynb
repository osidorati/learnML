{
 "cells": [
  {
   "cell_type": "code",
   "id": "initial_id",
   "metadata": {
    "collapsed": true,
    "ExecuteTime": {
     "end_time": "2024-05-30T21:10:35.307730Z",
     "start_time": "2024-05-30T21:10:35.301423Z"
    }
   },
   "source": [
    "### 1. чистая сеть с несколькими входами \n",
    "\n",
    "def w_sum(a, b):\n",
    "    assert(len(a) == len(b))\n",
    "    output = 0\n",
    "    for i in range(len(a)):\n",
    "        output += a[i] * b[i]\n",
    "    return output\n",
    "\n",
    "weights = [0.1, 0.2, -.1]\n",
    "\n",
    "def neural_network(inputs, weights):\n",
    "    pred = w_sum(inputs, weights)\n",
    "    return pred"
   ],
   "outputs": [],
   "execution_count": 1
  },
  {
   "metadata": {
    "ExecuteTime": {
     "end_time": "2024-05-30T21:14:29.270868Z",
     "start_time": "2024-05-30T21:14:29.265760Z"
    }
   },
   "cell_type": "code",
   "source": [
    "toes = [8.5, 9.5, 9.9, 9.0]\n",
    "wlrec = [0.65, 0.8, 0.8, 0.9]\n",
    "nfans = [1.2, 1.3, 0.5, 1.0]\n",
    "\n",
    "win_or_lose_binary = [1, 1, 0, 1]\n",
    "\n",
    "true = win_or_lose_binary[0]\n",
    "\n",
    "input = [toes[0], wlrec[0], nfans[0]]\n",
    "\n",
    "pred = neural_network(input, weights)\n",
    "\n",
    "error = (pred - true) ** 2\n",
    "\n",
    "delta = pred - true"
   ],
   "id": "591a6805e711d11e",
   "outputs": [],
   "execution_count": 2
  },
  {
   "metadata": {
    "ExecuteTime": {
     "end_time": "2024-05-30T21:22:06.627027Z",
     "start_time": "2024-05-30T21:22:06.622931Z"
    }
   },
   "cell_type": "code",
   "source": [
    "def ele_mul(number, vector):\n",
    "    output = [0, 0, 0]\n",
    "    assert(len(output) == len(vector))\n",
    "    for i in range(len(vector)):\n",
    "        output[i] = number * vector[i]\n",
    "    return output\n",
    "\n",
    "input = [toes[0], wlrec[0], nfans[0]]\n",
    "pred = neural_network(input, weights)\n",
    "error = (pred - true) ** 2\n",
    "delta = pred - true\n",
    "weight_deltas = ele_mul(delta, input)"
   ],
   "id": "6887585319d5b9e3",
   "outputs": [],
   "execution_count": 8
  },
  {
   "metadata": {
    "ExecuteTime": {
     "end_time": "2024-05-30T21:22:11.049334Z",
     "start_time": "2024-05-30T21:22:11.044260Z"
    }
   },
   "cell_type": "code",
   "source": [
    "input = [toes[0], wlrec[0], nfans[0]]   \n",
    "pred = neural_network(input, weights)\n",
    "error = (pred - true) ** 2\n",
    "delta = pred - true\n",
    "\n",
    "weights_deltas = ele_mul(delta, input)\n",
    "alpha = 0.01\n",
    "\n",
    "for i in range(len(weights)):\n",
    "    weights[i] -= weight_deltas[i] * alpha\n",
    "print(\"Weights: \", weights)\n",
    "print(\"Weights Delta: \", weights_deltas)"
   ],
   "id": "31389ca1dd60286d",
   "outputs": [
    {
     "name": "stdout",
     "output_type": "stream",
     "text": [
      "Weights:  [0.1119, 0.20091, -0.09832]\n",
      "Weights Delta:  [-1.189999999999999, -0.09099999999999994, -0.16799999999999987]\n"
     ]
    }
   ],
   "execution_count": 9
  },
  {
   "metadata": {},
   "cell_type": "code",
   "outputs": [],
   "execution_count": null,
   "source": "",
   "id": "2d63544044fdd1b4"
  }
 ],
 "metadata": {
  "kernelspec": {
   "display_name": "Python 3",
   "language": "python",
   "name": "python3"
  },
  "language_info": {
   "codemirror_mode": {
    "name": "ipython",
    "version": 2
   },
   "file_extension": ".py",
   "mimetype": "text/x-python",
   "name": "python",
   "nbconvert_exporter": "python",
   "pygments_lexer": "ipython2",
   "version": "2.7.6"
  }
 },
 "nbformat": 4,
 "nbformat_minor": 5
}
